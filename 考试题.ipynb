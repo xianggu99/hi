{
 "cells": [
  {
   "cell_type": "code",
   "execution_count": 2,
   "metadata": {},
   "outputs": [
    {
     "name": "stdout",
     "output_type": "stream",
     "text": [
      "*\n",
      "请输入行数5\n",
      "      \n",
      "     * \n",
      "    * * \n",
      "   * * * \n",
      "  * * * * \n",
      " * * * * * \n",
      "  * * * * \n",
      "   * * * \n",
      "    * * \n",
      "     * \n"
     ]
    }
   ],
   "source": [
    "##1、写函数，给定符号和行数，如’*’，5，可打印相应行数的如下菱形。主程序输入符号和行数调用该函数进行验证。（20分）\n",
    "def diamond(sign):\n",
    "    n=int(input('请输入行数'))\n",
    "    for i in range(n):\n",
    "        print(' '*(n-i),(sign+' ')*i)\n",
    "    for i in range(n,0,-1):\n",
    "        print(' '*(n-i),(sign+' ')*i)\n",
    "sign=input('请输入符号')\n",
    "diamond(sign)\n",
    "    \n",
    "    \n",
    "    "
   ]
  },
  {
   "cell_type": "code",
   "execution_count": 22,
   "metadata": {},
   "outputs": [
    {
     "name": "stdout",
     "output_type": "stream",
     "text": [
      "请输入一个整数5\n",
      "4037913\n"
     ]
    }
   ],
   "source": [
    "##2、用递归和非递归分别实现函数求1!+2!+3!+...+n!，主程序以n=10分别调用。（20分）\n",
    "##递归\n",
    "def recutive(n):\n",
    "    if n==1:\n",
    "        return 1\n",
    "    else:\n",
    "        return n*recutive(n-1)\n",
    "def qiuhe(n):\n",
    "    if n==1:\n",
    "        return recutive(1)\n",
    "    else:\n",
    "        return qiuhe(n-1)+recutive(n)\n",
    "int(input('请输入一个整数'))\n",
    "print(qiuhe(n))\n",
    "        \n",
    "\n",
    "    \n",
    "       \n",
    "        \n",
    "\n",
    "\n"
   ]
  },
  {
   "cell_type": "code",
   "execution_count": 21,
   "metadata": {},
   "outputs": [
    {
     "name": "stdout",
     "output_type": "stream",
     "text": [
      "请输入一个整数10\n"
     ]
    },
    {
     "data": {
      "text/plain": [
       "4037913"
      ]
     },
     "execution_count": 21,
     "metadata": {},
     "output_type": "execute_result"
    }
   ],
   "source": [
    "##非递归\n",
    "def jiecheng(n):\n",
    "    product=1\n",
    "    for i in range(1,n+1):\n",
    "        product=i*product\n",
    "    return product\n",
    "def qiuhe(n):\n",
    "    this_sum=0\n",
    "    for i in range(n):\n",
    "        this_sum+=jiecheng(i+1)\n",
    "    return this_sum\n",
    "n=int(input('请输入一个整数'))\n",
    "qiuhe(n)        "
   ]
  },
  {
   "cell_type": "code",
   "execution_count": null,
   "metadata": {
    "collapsed": true
   },
   "outputs": [],
   "source": [
    "##3、北京车牌号的一般形式为：“京X-YYYYY”，其中X为字母，Y为字母或者数字，字母不能为I或者O，数字只能0-9之间。\n",
    "##3请编写程序模拟选号过程：一次可以随机生成10个车牌号（不能有重复），依次将其编号为0-9，显示给用户。（20分）\n",
    "\n",
    "import random\n",
    "list1=['A','B','C','D','E','F','G','H','J','K','L','M','N','P','Q','R','S','T','U','V','W','X','Y','Z']\n",
    "list2=list1+['0','1','2','3','4','5','6','7','8','9']\n",
    "\n",
    "for i in range(10):\n",
    "    chepchepaiku=[]\n",
    "    X=random.choice(list1)\n",
    "    Y1=random.choice(list2)\n",
    "    Y2=random.choice(list2)\n",
    "    Y3=random.choice(list2)\n",
    "    Y4=random.choice(list2)\n",
    "    Y5=random.choice(list2)\n",
    "    chepai='京'+X+'-'+Y1+Y2+Y3+Y4+Y5\n",
    "    if chepai not in chepaiku:\n",
    "        chepaiku.append(chepai)\n",
    "        print(int(i+1),chepaiku[i])\n",
    "\n",
    "\n"
   ]
  },
  {
   "cell_type": "code",
   "execution_count": 1,
   "metadata": {},
   "outputs": [
    {
     "name": "stdout",
     "output_type": "stream",
     "text": [
      "0.9583148474999099\n"
     ]
    }
   ],
   "source": [
    "##4、两个向量间的距离可定义为两个向量间的夹角余弦值，给定三个向量，求向量间距离的最小值。三个向量为：[1,2,3,4],[4,5,6,7],[7,8,9,10]（20分）\n",
    "def cosvector(x,y):\n",
    "    result1=0.0;\n",
    "    result2=0.0;\n",
    "    result3=0.0;\n",
    "    for i in range(len(x)):\n",
    "        result1+=x[i]*y[i]\n",
    "        result2+=x[i]**2\n",
    "        result3+=y[i]**2\n",
    "    return result1/((result2*result3)**0.5)\n",
    "print(min(cosvector([1,2,3,4],[4,5,6,7]),cosvector([1,2,3,4],[7,8,9,10]),cosvector([4,5,6,7],[7,8,9,10])))\n"
   ]
  },
  {
   "cell_type": "code",
   "execution_count": 50,
   "metadata": {},
   "outputs": [
    {
     "name": "stdout",
     "output_type": "stream",
     "text": [
      "767 11\n",
      "545 12\n",
      "1771 19\n",
      "9119 16\n",
      "353 6\n",
      "5 13\n",
      "222 14\n",
      "7447 14\n",
      "606 15\n",
      "242 16\n",
      "828 13\n",
      "2002 14\n",
      "6226 11\n",
      "161 10\n",
      "454 19\n",
      "363 12\n",
      "5225 16\n",
      "343 9\n",
      "515 10\n",
      "3663 10\n",
      "282 11\n",
      "2552 10\n",
      "5665 8\n",
      "414 10\n",
      "8118 9\n",
      "44 12\n",
      "2662 12\n",
      "686 14\n",
      "121 5\n",
      "77 4\n",
      "88 11\n",
      "2222 12\n",
      "1881 9\n",
      "8888 18\n",
      "3773 13\n",
      "7227 19\n",
      "464 7\n",
      "6556 14\n",
      "2112 12\n",
      "2882 10\n",
      "717 10\n",
      "8338 12\n",
      "8008 5\n",
      "3223 6\n",
      "4004 9\n",
      "9779 18\n",
      "1441 10\n",
      "979 9\n",
      "5555 11\n",
      "55 10\n",
      "878 11\n",
      "292 15\n",
      "9449 10\n",
      "969 16\n",
      "272 8\n",
      "4114 11\n",
      "989 12\n",
      "737 10\n",
      "505 11\n",
      "8228 16\n",
      "575 17\n",
      "7337 14\n",
      "393 14\n",
      "131 13\n",
      "616 11\n",
      "7777 9\n",
      "8998 17\n",
      "6446 11\n",
      "7997 14\n",
      "1331 9\n",
      "484 10\n",
      "111 9\n",
      "9339 10\n",
      "494 3\n",
      "262 6\n",
      "818 13\n",
      "3003 14\n",
      "636 11\n",
      "404 11\n",
      "808 15\n",
      "919 9\n",
      "212 9\n",
      "11 8\n",
      "707 8\n",
      "9669 9\n",
      "2992 7\n",
      "676 10\n",
      "898 6\n",
      "848 12\n",
      "797 15\n",
      "3993 12\n",
      "9999 7\n",
      "202 8\n",
      "232 13\n",
      "373 10\n",
      "656 12\n",
      "949 13\n",
      "383 8\n",
      "4994 17\n",
      "666 11\n",
      "141 4\n",
      "3553 10\n",
      "313 20\n",
      "9559 10\n",
      "474 7\n",
      "7667 9\n",
      "33 10\n",
      "303 17\n",
      "1 9\n",
      "252 10\n",
      "787 3\n",
      "999 15\n",
      "151 5\n",
      "3113 12\n",
      "191 10\n",
      "1111 13\n",
      "3883 10\n",
      "535 13\n",
      "5775 9\n",
      "4 16\n",
      "4554 15\n",
      "444 10\n",
      "626 10\n",
      "939 8\n",
      "8668 7\n",
      "747 7\n",
      "4444 14\n",
      "333 15\n",
      "323 9\n",
      "1551 8\n",
      "5995 12\n",
      "8558 16\n",
      "1221 11\n",
      "555 10\n",
      "66 6\n",
      "727 5\n",
      "5885 9\n",
      "1661 7\n",
      "929 11\n",
      "434 11\n",
      "9009 11\n",
      "101 9\n",
      "6886 8\n",
      "696 13\n",
      "7007 7\n",
      "8778 15\n",
      "5115 7\n",
      "6776 17\n",
      "525 12\n",
      "1991 11\n",
      "5005 15\n",
      "888 11\n",
      "6006 11\n",
      "8 8\n",
      "7 12\n",
      "777 8\n",
      "868 3\n",
      "4774 8\n",
      "9889 14\n",
      "6116 8\n",
      "7887 5\n",
      "6996 9\n",
      "7557 11\n",
      "3333 12\n",
      "565 8\n",
      "4884 3\n",
      "8448 10\n",
      "99 5\n",
      "5335 15\n",
      "2772 9\n",
      "5445 7\n",
      "585 8\n",
      "4334 10\n",
      "595 11\n",
      "959 5\n",
      "9 5\n",
      "424 8\n",
      "22 5\n",
      "1001 6\n",
      "2442 12\n",
      "2332 10\n",
      "858 8\n",
      "4224 9\n",
      "4664 5\n",
      "6336 8\n",
      "171 9\n",
      "838 5\n",
      "2 11\n",
      "6666 4\n",
      "9229 7\n",
      "3 10\n",
      "6 11\n",
      "3443 8\n",
      "909 6\n",
      "181 6\n",
      "7117 10\n",
      "757 8\n",
      "646 6\n",
      "9\n"
     ]
    }
   ],
   "source": [
    "##5、随机生成100000个整数（1-10000之间）作为集合A，随机生成100000个整数（1-15000之间）作为集合B。\n",
    "import random\n",
    "A=[]\n",
    "B=[]\n",
    "for i in range(100000):\n",
    "    A.append(random.randint(1,10000))\n",
    "    B.append(random.randint(1,15000))\n",
    "\n",
    "\n",
    "#（a）得到A,B所有出现的数及出现次数，分别输出到文件a.txt，b.txt中（新建文件），请输出多行，每行为两个数，两个数之间用逗号分隔（5分）；\n",
    "num_dict1={}\n",
    "for num in A:\n",
    "    if num in num_dict1:\n",
    "        num_dict1[num]+=1\n",
    "    else:\n",
    "        num_dict1[num]=1\n",
    "\n",
    "b=[]\n",
    "for key,value in num_dict1.items():\n",
    "    a=key,value \n",
    "    b.append(a)\n",
    "with open(r'd:\\a.txt','w')as f:\n",
    "    for i in range(0,len(b),2):\n",
    "        f.write(str(b[i]))\n",
    "        f.write(',')\n",
    "        f.write(str(b[i+1]))\n",
    "        f.write('\\n')\n",
    "num_dict2={}\n",
    "for num in B:\n",
    "    if num in num_dict2:\n",
    "        num_dict2[num]+=1\n",
    "    else:\n",
    "        num_dict2[num]=1\n",
    "c=[]\n",
    "for key,value in num_dict2.items():\n",
    "    d=key,value\n",
    "    c.append(d)\n",
    "with open(r'd:\\b.txt','w')as fw:\n",
    "    for i in range(0,len(c),2):\n",
    "        fw.write(str(c[i]))\n",
    "        fw.write(',')\n",
    "        fw.write(str(c[i+1]))\n",
    "        fw.write('\\n')\n",
    "\n",
    "#（b）列出A中所有回文数（例：12321）以及出现的次数（5分）；\n",
    "for key,value in num_dict1.items():\n",
    "    if str(key)==str(key)[::-1]:\n",
    "        print(key,value)\n",
    "\n",
    "#  （c）列出B中分别由1-5个数字组成的数各自的总次数与总和，并按照总次数排序输出（\n",
    "#如223就是3个数字组成的数，2834就是4个数字组成的数）（5分）； \n",
    "num1=0 \n",
    "num2=0\n",
    "num3=0\n",
    "num4=0\n",
    "num5=0\n",
    "sumnum1=0\n",
    "sumnum2=0\n",
    "sumnum3=0\n",
    "sumnum4=0\n",
    "sumnum5=0\n",
    "for key in num_dict2.keys():\n",
    "    if len(str(key))==1:\n",
    "        num1+=1\n",
    "        sumnum1+=key\n",
    "    elif len(str(key))==2:\n",
    "        num2+=1\n",
    "        sumnum2+=key\n",
    "    elif len(str(key))==3:\n",
    "        \n",
    "#（d）从a.txt,b.txt读入得到A与B中出现的数（注意不要次数），计算既出现在A又出现在B中的数，追加输出到文件a.txt（5分）。\n",
    "f = open(r'd:\\a.txt') \n",
    "fr = f.read()\n",
    "fr_1 = fr.replace('(','')\n",
    "fr_2 = fr_1.replace(')','')\n",
    "fr_3 = fr_2.replace(', ','')\n",
    "numbers_1 = [num.split('\\n')[0] for num in fr_3.split(',')]\n",
    "print(numbers_1)\n",
    "\n",
    "g = open(r'd:\\b.txt')\n",
    "gr = g.read()\n",
    "gr_1 = gr.replace('(','')\n",
    "gr_2 = gr_1.replace(')','')\n",
    "gr_3 = gr_2.replace(', ','\\n')\n",
    "numbers_2= [num.split('\\n')[0] for num in gr_3.split(',')]\n",
    "print(numbers_2)\n",
    "\n",
    "plus_list = []\n",
    "num_1 = set(numbers_1)\n",
    "num_2 = set(numbers_2)\n",
    "print(num_1&num_2)\n",
    "\n",
    "with open(r'd:\\a.txt','a+') as add_file:\n",
    "    add_file.write(str(num_1&num_2))\n",
    "\n",
    "\n",
    "        \n",
    "    \n",
    "    \n",
    "\n",
    "    \n",
    "  \n",
    "    "
   ]
  },
  {
   "cell_type": "code",
   "execution_count": null,
   "metadata": {
    "collapsed": true
   },
   "outputs": [],
   "source": []
  },
  {
   "cell_type": "code",
   "execution_count": null,
   "metadata": {
    "collapsed": true
   },
   "outputs": [],
   "source": []
  },
  {
   "cell_type": "code",
   "execution_count": null,
   "metadata": {
    "collapsed": true
   },
   "outputs": [],
   "source": []
  },
  {
   "cell_type": "code",
   "execution_count": null,
   "metadata": {
    "collapsed": true
   },
   "outputs": [],
   "source": []
  },
  {
   "cell_type": "code",
   "execution_count": null,
   "metadata": {
    "collapsed": true
   },
   "outputs": [],
   "source": []
  },
  {
   "cell_type": "code",
   "execution_count": null,
   "metadata": {
    "collapsed": true
   },
   "outputs": [],
   "source": []
  },
  {
   "cell_type": "code",
   "execution_count": null,
   "metadata": {
    "collapsed": true
   },
   "outputs": [],
   "source": []
  },
  {
   "cell_type": "code",
   "execution_count": 43,
   "metadata": {},
   "outputs": [
    {
     "name": "stdout",
     "output_type": "stream",
     "text": [
      "1 2\n"
     ]
    }
   ],
   "source": [
    "a=1\n",
    "b=2\n",
    "print(a,b)"
   ]
  },
  {
   "cell_type": "code",
   "execution_count": null,
   "metadata": {
    "collapsed": true
   },
   "outputs": [],
   "source": []
  },
  {
   "cell_type": "code",
   "execution_count": null,
   "metadata": {
    "collapsed": true
   },
   "outputs": [],
   "source": []
  },
  {
   "cell_type": "code",
   "execution_count": null,
   "metadata": {
    "collapsed": true
   },
   "outputs": [],
   "source": []
  },
  {
   "cell_type": "code",
   "execution_count": null,
   "metadata": {
    "collapsed": true
   },
   "outputs": [],
   "source": []
  },
  {
   "cell_type": "code",
   "execution_count": null,
   "metadata": {
    "collapsed": true
   },
   "outputs": [],
   "source": []
  },
  {
   "cell_type": "code",
   "execution_count": null,
   "metadata": {
    "collapsed": true
   },
   "outputs": [],
   "source": []
  },
  {
   "cell_type": "code",
   "execution_count": null,
   "metadata": {
    "collapsed": true
   },
   "outputs": [],
   "source": []
  },
  {
   "cell_type": "code",
   "execution_count": null,
   "metadata": {
    "collapsed": true
   },
   "outputs": [],
   "source": []
  },
  {
   "cell_type": "code",
   "execution_count": null,
   "metadata": {
    "collapsed": true
   },
   "outputs": [],
   "source": []
  },
  {
   "cell_type": "code",
   "execution_count": null,
   "metadata": {
    "collapsed": true
   },
   "outputs": [],
   "source": []
  },
  {
   "cell_type": "code",
   "execution_count": null,
   "metadata": {
    "collapsed": true
   },
   "outputs": [],
   "source": []
  },
  {
   "cell_type": "code",
   "execution_count": null,
   "metadata": {
    "collapsed": true
   },
   "outputs": [],
   "source": []
  },
  {
   "cell_type": "code",
   "execution_count": null,
   "metadata": {
    "collapsed": true
   },
   "outputs": [],
   "source": []
  },
  {
   "cell_type": "code",
   "execution_count": null,
   "metadata": {
    "collapsed": true
   },
   "outputs": [],
   "source": []
  },
  {
   "cell_type": "code",
   "execution_count": null,
   "metadata": {
    "collapsed": true
   },
   "outputs": [],
   "source": []
  },
  {
   "cell_type": "code",
   "execution_count": null,
   "metadata": {
    "collapsed": true
   },
   "outputs": [],
   "source": []
  },
  {
   "cell_type": "code",
   "execution_count": 26,
   "metadata": {},
   "outputs": [
    {
     "name": "stdout",
     "output_type": "stream",
     "text": [
      "1\n",
      "2\n",
      "3\n",
      "4\n"
     ]
    }
   ],
   "source": [
    "list1=[1,2,3,4]\n",
    "for num in list1:\n",
    "    print(num)"
   ]
  },
  {
   "cell_type": "code",
   "execution_count": null,
   "metadata": {
    "collapsed": true
   },
   "outputs": [],
   "source": []
  },
  {
   "cell_type": "code",
   "execution_count": null,
   "metadata": {
    "collapsed": true
   },
   "outputs": [],
   "source": []
  },
  {
   "cell_type": "code",
   "execution_count": null,
   "metadata": {
    "collapsed": true
   },
   "outputs": [],
   "source": []
  },
  {
   "cell_type": "code",
   "execution_count": null,
   "metadata": {
    "collapsed": true
   },
   "outputs": [],
   "source": []
  },
  {
   "cell_type": "code",
   "execution_count": null,
   "metadata": {
    "collapsed": true
   },
   "outputs": [],
   "source": []
  },
  {
   "cell_type": "code",
   "execution_count": null,
   "metadata": {
    "collapsed": true
   },
   "outputs": [],
   "source": []
  },
  {
   "cell_type": "code",
   "execution_count": null,
   "metadata": {
    "collapsed": true
   },
   "outputs": [],
   "source": []
  },
  {
   "cell_type": "code",
   "execution_count": null,
   "metadata": {
    "collapsed": true
   },
   "outputs": [],
   "source": []
  },
  {
   "cell_type": "code",
   "execution_count": null,
   "metadata": {
    "collapsed": true
   },
   "outputs": [],
   "source": []
  },
  {
   "cell_type": "code",
   "execution_count": null,
   "metadata": {
    "collapsed": true
   },
   "outputs": [],
   "source": []
  },
  {
   "cell_type": "code",
   "execution_count": null,
   "metadata": {
    "collapsed": true
   },
   "outputs": [],
   "source": []
  },
  {
   "cell_type": "code",
   "execution_count": null,
   "metadata": {
    "collapsed": true
   },
   "outputs": [],
   "source": []
  },
  {
   "cell_type": "code",
   "execution_count": null,
   "metadata": {
    "collapsed": true
   },
   "outputs": [],
   "source": []
  },
  {
   "cell_type": "code",
   "execution_count": null,
   "metadata": {
    "collapsed": true
   },
   "outputs": [],
   "source": []
  },
  {
   "cell_type": "code",
   "execution_count": null,
   "metadata": {
    "collapsed": true
   },
   "outputs": [],
   "source": []
  },
  {
   "cell_type": "code",
   "execution_count": null,
   "metadata": {
    "collapsed": true
   },
   "outputs": [],
   "source": []
  },
  {
   "cell_type": "code",
   "execution_count": null,
   "metadata": {
    "collapsed": true
   },
   "outputs": [],
   "source": []
  },
  {
   "cell_type": "code",
   "execution_count": null,
   "metadata": {
    "collapsed": true
   },
   "outputs": [],
   "source": []
  },
  {
   "cell_type": "code",
   "execution_count": null,
   "metadata": {
    "collapsed": true
   },
   "outputs": [],
   "source": []
  },
  {
   "cell_type": "code",
   "execution_count": null,
   "metadata": {
    "collapsed": true
   },
   "outputs": [],
   "source": []
  },
  {
   "cell_type": "code",
   "execution_count": null,
   "metadata": {
    "collapsed": true
   },
   "outputs": [],
   "source": []
  },
  {
   "cell_type": "code",
   "execution_count": null,
   "metadata": {
    "collapsed": true
   },
   "outputs": [],
   "source": []
  },
  {
   "cell_type": "code",
   "execution_count": null,
   "metadata": {
    "collapsed": true
   },
   "outputs": [],
   "source": []
  },
  {
   "cell_type": "code",
   "execution_count": null,
   "metadata": {
    "collapsed": true
   },
   "outputs": [],
   "source": []
  },
  {
   "cell_type": "code",
   "execution_count": null,
   "metadata": {
    "collapsed": true
   },
   "outputs": [],
   "source": []
  },
  {
   "cell_type": "code",
   "execution_count": null,
   "metadata": {
    "collapsed": true
   },
   "outputs": [],
   "source": []
  },
  {
   "cell_type": "code",
   "execution_count": null,
   "metadata": {
    "collapsed": true
   },
   "outputs": [],
   "source": []
  },
  {
   "cell_type": "code",
   "execution_count": null,
   "metadata": {
    "collapsed": true
   },
   "outputs": [],
   "source": []
  },
  {
   "cell_type": "code",
   "execution_count": null,
   "metadata": {
    "collapsed": true
   },
   "outputs": [],
   "source": []
  },
  {
   "cell_type": "code",
   "execution_count": null,
   "metadata": {
    "collapsed": true
   },
   "outputs": [],
   "source": []
  },
  {
   "cell_type": "code",
   "execution_count": null,
   "metadata": {
    "collapsed": true
   },
   "outputs": [],
   "source": []
  },
  {
   "cell_type": "code",
   "execution_count": null,
   "metadata": {
    "collapsed": true
   },
   "outputs": [],
   "source": []
  },
  {
   "cell_type": "code",
   "execution_count": null,
   "metadata": {
    "collapsed": true
   },
   "outputs": [],
   "source": []
  },
  {
   "cell_type": "code",
   "execution_count": null,
   "metadata": {
    "collapsed": true
   },
   "outputs": [],
   "source": []
  },
  {
   "cell_type": "code",
   "execution_count": 35,
   "metadata": {},
   "outputs": [
    {
     "name": "stdout",
     "output_type": "stream",
     "text": [
      "[1, 2, 3]\n"
     ]
    }
   ],
   "source": [
    "list1=[1,2,3]\n",
    "print(list1)"
   ]
  },
  {
   "cell_type": "code",
   "execution_count": null,
   "metadata": {
    "collapsed": true
   },
   "outputs": [],
   "source": []
  },
  {
   "cell_type": "code",
   "execution_count": null,
   "metadata": {
    "collapsed": true
   },
   "outputs": [],
   "source": []
  },
  {
   "cell_type": "code",
   "execution_count": null,
   "metadata": {
    "collapsed": true
   },
   "outputs": [],
   "source": []
  },
  {
   "cell_type": "code",
   "execution_count": null,
   "metadata": {
    "collapsed": true
   },
   "outputs": [],
   "source": []
  },
  {
   "cell_type": "code",
   "execution_count": null,
   "metadata": {
    "collapsed": true
   },
   "outputs": [],
   "source": []
  },
  {
   "cell_type": "code",
   "execution_count": null,
   "metadata": {
    "collapsed": true
   },
   "outputs": [],
   "source": []
  },
  {
   "cell_type": "code",
   "execution_count": null,
   "metadata": {
    "collapsed": true
   },
   "outputs": [],
   "source": []
  },
  {
   "cell_type": "code",
   "execution_count": null,
   "metadata": {
    "collapsed": true
   },
   "outputs": [],
   "source": []
  },
  {
   "cell_type": "code",
   "execution_count": null,
   "metadata": {
    "collapsed": true
   },
   "outputs": [],
   "source": []
  },
  {
   "cell_type": "code",
   "execution_count": null,
   "metadata": {
    "collapsed": true
   },
   "outputs": [],
   "source": []
  },
  {
   "cell_type": "code",
   "execution_count": null,
   "metadata": {
    "collapsed": true
   },
   "outputs": [],
   "source": []
  },
  {
   "cell_type": "code",
   "execution_count": null,
   "metadata": {
    "collapsed": true
   },
   "outputs": [],
   "source": []
  },
  {
   "cell_type": "code",
   "execution_count": null,
   "metadata": {
    "collapsed": true
   },
   "outputs": [],
   "source": []
  },
  {
   "cell_type": "code",
   "execution_count": null,
   "metadata": {
    "collapsed": true
   },
   "outputs": [],
   "source": []
  },
  {
   "cell_type": "code",
   "execution_count": null,
   "metadata": {
    "collapsed": true
   },
   "outputs": [],
   "source": []
  },
  {
   "cell_type": "code",
   "execution_count": null,
   "metadata": {
    "collapsed": true
   },
   "outputs": [],
   "source": []
  },
  {
   "cell_type": "code",
   "execution_count": null,
   "metadata": {
    "collapsed": true
   },
   "outputs": [],
   "source": []
  },
  {
   "cell_type": "code",
   "execution_count": null,
   "metadata": {
    "collapsed": true
   },
   "outputs": [],
   "source": []
  },
  {
   "cell_type": "code",
   "execution_count": null,
   "metadata": {
    "collapsed": true
   },
   "outputs": [],
   "source": []
  },
  {
   "cell_type": "code",
   "execution_count": null,
   "metadata": {
    "collapsed": true
   },
   "outputs": [],
   "source": []
  },
  {
   "cell_type": "code",
   "execution_count": null,
   "metadata": {
    "collapsed": true
   },
   "outputs": [],
   "source": []
  }
 ],
 "metadata": {
  "kernelspec": {
   "display_name": "Python 3",
   "language": "python",
   "name": "python3"
  },
  "language_info": {
   "codemirror_mode": {
    "name": "ipython",
    "version": 3
   },
   "file_extension": ".py",
   "mimetype": "text/x-python",
   "name": "python",
   "nbconvert_exporter": "python",
   "pygments_lexer": "ipython3",
   "version": "3.6.3"
  }
 },
 "nbformat": 4,
 "nbformat_minor": 2
}
